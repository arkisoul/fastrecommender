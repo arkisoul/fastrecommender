{
 "cells": [
  {
   "cell_type": "code",
   "execution_count": 1,
   "metadata": {},
   "outputs": [],
   "source": [
    "import pandas as pd\n",
    "from sklearn.metrics.pairwise import cosine_similarity\n",
    "import numpy as np\n",
    "import warnings\n",
    "warnings.filterwarnings('ignore')"
   ]
  },
  {
   "cell_type": "code",
   "execution_count": 2,
   "metadata": {},
   "outputs": [
    {
     "name": "stdout",
     "output_type": "stream",
     "text": [
      "Defaulting to user installation because normal site-packages is not writeable\n",
      "Requirement already satisfied: fastapi in c:\\users\\sanvi arora\\appdata\\roaming\\python\\python39\\site-packages (0.98.0)\n",
      "Requirement already satisfied: starlette<0.28.0,>=0.27.0 in c:\\users\\sanvi arora\\appdata\\roaming\\python\\python39\\site-packages (from fastapi) (0.27.0)\n",
      "Requirement already satisfied: pydantic!=1.8,!=1.8.1,<2.0.0,>=1.7.4 in c:\\users\\sanvi arora\\appdata\\roaming\\python\\python39\\site-packages (from fastapi) (1.10.9)\n",
      "Requirement already satisfied: typing-extensions>=4.2.0 in c:\\programdata\\anaconda3\\lib\\site-packages (from pydantic!=1.8,!=1.8.1,<2.0.0,>=1.7.4->fastapi) (4.3.0)\n",
      "Requirement already satisfied: anyio<5,>=3.4.0 in c:\\programdata\\anaconda3\\lib\\site-packages (from starlette<0.28.0,>=0.27.0->fastapi) (3.5.0)\n",
      "Requirement already satisfied: sniffio>=1.1 in c:\\programdata\\anaconda3\\lib\\site-packages (from anyio<5,>=3.4.0->starlette<0.28.0,>=0.27.0->fastapi) (1.2.0)\n",
      "Requirement already satisfied: idna>=2.8 in c:\\programdata\\anaconda3\\lib\\site-packages (from anyio<5,>=3.4.0->starlette<0.28.0,>=0.27.0->fastapi) (3.3)\n"
     ]
    }
   ],
   "source": [
    "!pip install fastapi"
   ]
  },
  {
   "cell_type": "code",
   "execution_count": null,
   "metadata": {},
   "outputs": [],
   "source": [
    "movie=pd.read_csv(r\"C:\\Users\\Sanvi Arora\\OneDrive\\Desktop\\ratings.csv\")\n",
    "movie.head()\n",
    "movie=movie.drop('timestamp',axis=1)\n",
    "\n",
    "movie_ratings=pd.DataFrame()\n",
    "movie_ratings['movieId']=movie['movieId']\n",
    "movie_ratings['rating']=movie['rating']\n",
    "\n",
    "user_ratings=pd.DataFrame()\n",
    "user_ratings['userId']=movie['userId']\n",
    "user_ratings['rating']=movie['rating']\n",
    "\n",
    "count_ratings_users=pd.DataFrame(user_ratings.groupby('userId',as_index=False).count())\n",
    "count_ratings_users=count_ratings_users.sort_values(by='rating',ascending=False)\n",
    "count_ratings_users.rename(columns = {'rating':'Count'}, inplace = True)\n",
    "count_ratings_users=count_ratings_users[count_ratings_users['Count']>=5]\n",
    "\n",
    "df0=count_ratings_users.merge(movie,on='userId',how='inner')\n",
    "\n",
    "count_ratings_movie=pd.DataFrame(movie_ratings.groupby('movieId',as_index=False).count())\n",
    "count_ratings_movie=count_ratings_movie.sort_values(by='rating',ascending=False)\n",
    "count_ratings_movie.rename(columns = {'rating':'Count'}, inplace = True)\n",
    "count_ratings_movie=count_ratings_movie[count_ratings_movie['Count']>=75]\n",
    "movie=count_ratings_movie.merge(df0,on='movieId', how='inner')\n",
    "movie=movie.drop(columns=['Count_x','Count_y'],axis=1)\n",
    "\n",
    "movie['movieId']=movie['movieId'].rank(method='dense').astype(int)\n",
    "movie['userId']=movie['userId'].rank(method='dense').astype(int)\n",
    "\n"
   ]
  },
  {
   "cell_type": "code",
   "execution_count": 3,
   "metadata": {},
   "outputs": [],
   "source": [
    "from fastapi import FastAPI\n",
    "app=FastAPI()\n",
    "import joblib\n",
    "user_item_matrix_norm = pd.read_csv(r\"C:\\Users\\Sanvi Arora\\Downloads\\user_item_matrix_norm (2).csv\")\n",
    "item_similarity = pd.read_csv(r\"C:\\Users\\Sanvi Arora\\Downloads\\item_similarity (2).csv\")\n",
    "\n",
    "# Define a route for prediction\n",
    "def predict_rating(userId, movieId, max_neighbor=2): \n",
    "    movies = item_similarity.sort_values(by=movieId, ascending=False).index[1:]\n",
    "    scores = item_similarity.sort_values(by=movieId, ascending=False).loc[:, movieId].tolist()[1:]\n",
    "    movies_arr = np.array([x for x in movies])\n",
    "    sim_arr = np.array([x for x in scores])\n",
    "    # select only the movie that has already rated by given user\n",
    "    filtering = user_item_matrix_norm[userId].loc[movies_arr] != 0\n",
    "    # calculate the predicted score\n",
    "    s = np.dot(sim_arr[filtering][:max_neighbor], user_item_matrix_norm[userId].loc[movies_arr[filtering][:max_neighbor]])/ np.sum(sim_arr[filtering][:max_neighbor])\n",
    "    return s\n",
    "@app.get('/predict/{userId}/{n}')\n",
    "def get_recommendation(userId, n=5):\n",
    "    predicted_rating = np.array([])\n",
    "    for movie_ in user_item_matrix_norm.index:\n",
    "        predicted_rating = np.append(predicted_rating, predict_rating(userId, movie_))\n",
    "    # don't recommend something that user has already rated\n",
    "    temp = pd.DataFrame({'predicted_rating':predicted_rating, 'movie':user_item_matrix_norm.index})\n",
    "    filtering = (user_item_matrix_norm[userId] == 0.0)\n",
    "    temp = temp.loc[filtering.values].sort_values(by='predicted_rating', ascending=False)\n",
    "    # recommend n movies to user\n",
    "    return temp.movie[:n].tolist()"
   ]
  }
 ],
 "metadata": {
  "kernelspec": {
   "display_name": "base",
   "language": "python",
   "name": "python3"
  },
  "language_info": {
   "codemirror_mode": {
    "name": "ipython",
    "version": 3
   },
   "file_extension": ".py",
   "mimetype": "text/x-python",
   "name": "python",
   "nbconvert_exporter": "python",
   "pygments_lexer": "ipython3",
   "version": "3.9.13"
  },
  "orig_nbformat": 4
 },
 "nbformat": 4,
 "nbformat_minor": 2
}
